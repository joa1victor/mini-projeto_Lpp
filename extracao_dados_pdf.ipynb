{
  "nbformat": 4,
  "nbformat_minor": 0,
  "metadata": {
    "colab": {
      "provenance": [],
      "include_colab_link": true
    },
    "kernelspec": {
      "name": "python3",
      "display_name": "Python 3"
    },
    "language_info": {
      "name": "python"
    }
  },
  "cells": [
    {
      "cell_type": "markdown",
      "metadata": {
        "id": "view-in-github",
        "colab_type": "text"
      },
      "source": [
        "<a href=\"https://colab.research.google.com/github/joa1victor/mini-projeto_Lpp/blob/main/extracao_dados_pdf.ipynb\" target=\"_parent\"><img src=\"https://colab.research.google.com/assets/colab-badge.svg\" alt=\"Open In Colab\"/></a>"
      ]
    },
    {
      "cell_type": "code",
      "source": [
        "pip install PyPDF2"
      ],
      "metadata": {
        "colab": {
          "base_uri": "https://localhost:8080/"
        },
        "id": "cB_zvB1bbCRm",
        "outputId": "68f6a748-9742-44f8-cf11-1d413542efd6"
      },
      "execution_count": null,
      "outputs": [
        {
          "output_type": "stream",
          "name": "stdout",
          "text": [
            "Collecting PyPDF2\n",
            "  Downloading pypdf2-3.0.1-py3-none-any.whl.metadata (6.8 kB)\n",
            "Downloading pypdf2-3.0.1-py3-none-any.whl (232 kB)\n",
            "\u001b[?25l   \u001b[90m━━━━━━━━━━━━━━━━━━━━━━━━━━━━━━━━━━━━━━━━\u001b[0m \u001b[32m0.0/232.6 kB\u001b[0m \u001b[31m?\u001b[0m eta \u001b[36m-:--:--\u001b[0m\r\u001b[2K   \u001b[91m━━━━━━━━━━━━━━━━━━━━━━━━\u001b[0m\u001b[91m╸\u001b[0m\u001b[90m━━━━━━━━━━━━━━━\u001b[0m \u001b[32m143.4/232.6 kB\u001b[0m \u001b[31m5.0 MB/s\u001b[0m eta \u001b[36m0:00:01\u001b[0m\r\u001b[2K   \u001b[90m━━━━━━━━━━━━━━━━━━━━━━━━━━━━━━━━━━━━━━━━\u001b[0m \u001b[32m232.6/232.6 kB\u001b[0m \u001b[31m4.3 MB/s\u001b[0m eta \u001b[36m0:00:00\u001b[0m\n",
            "\u001b[?25hInstalling collected packages: PyPDF2\n",
            "Successfully installed PyPDF2-3.0.1\n"
          ]
        }
      ]
    },
    {
      "cell_type": "code",
      "source": [
        "from google.colab import drive\n",
        "drive.mount('/content/drive')"
      ],
      "metadata": {
        "id": "FjwtsIuKst40"
      },
      "execution_count": null,
      "outputs": []
    },
    {
      "cell_type": "code",
      "source": [
        "import os\n",
        "import PyPDF2\n",
        "import pandas as pd\n",
        "import re\n",
        "\n",
        "\n",
        "def limpar_texto(texto: str) -> str:\n",
        "    \"\"\"\n",
        "    Remove caracteres indesejados (\\n, \\t, etc.) de um texto.\n",
        "    \"\"\"\n",
        "    return texto.replace('\\n', ' ').replace('\\t', ' ').strip()\n",
        "\n",
        "\n",
        "def segmentar_texto(texto: str) -> list[str]:\n",
        "    \"\"\"\n",
        "    Divide o texto em duas partes principais: antes e depois de 'RELATÓRIO E VOTO'.\n",
        "    \"\"\"\n",
        "    return texto.split(\"RELATÓRIO E VOTO\", 1)\n",
        "\n",
        "\n",
        "def get_num_processo(texto: str) -> str:\n",
        "    \"\"\"\n",
        "    Extrai o número do processo usando regex para maior flexibilidade.\n",
        "    \"\"\"\n",
        "    match = re.search(r\"Processo\\s*:\\s*(\\S+)\", texto, re.IGNORECASE)\n",
        "    return match.group(1) if match else \"Número de processo não encontrado\"\n",
        "\n",
        "\n",
        "def get_interessado(texto: str) -> str:\n",
        "    \"\"\"\n",
        "    Extrai o interessado e seu CPF usando regex para maior flexibilidade.\n",
        "    \"\"\"\n",
        "    match = re.search(r\"Interessado/CPF\\s*:\\s*(.+?)(?=Relator|$)\", texto, re.IGNORECASE)\n",
        "    return match.group(1).strip() if match else \"Interessado/CPF não encontrado\"\n",
        "\n",
        "\n",
        "def get_cargo(texto: str) -> str:\n",
        "    \"\"\"\n",
        "    Extrai o cargo do interessado usando regex para maior flexibilidade.\n",
        "    \"\"\"\n",
        "    match = re.search(r\"no cargo\\s+(.+?);\", texto, re.IGNORECASE)\n",
        "    return match.group(1).strip() if match else \"Cargo não encontrado\"\n",
        "\n",
        "\n",
        "def get_orgao_entidade(texto: str) -> str:\n",
        "    \"\"\"\n",
        "    Extrai o Órgão/Entidade usando regex.\n",
        "    \"\"\"\n",
        "    match = re.search(r\"Órgão/Entidade\\s*:\\s*(.+?)(?=Natureza|$)\", texto, re.IGNORECASE)\n",
        "    return match.group(1).strip() if match else \"Órgão/Entidade não encontrado\"\n",
        "\n",
        "\n",
        "def get_voto(texto: str) -> str:\n",
        "    \"\"\"\n",
        "    Extrai a parte do texto referente ao voto, iniciando após 'VOTO'.\n",
        "    \"\"\"\n",
        "    match = re.search(r\"VOTO\\s*(.+)\", texto, re.IGNORECASE | re.DOTALL)\n",
        "    return match.group(1).strip() if match else \"Voto não encontrado\"\n",
        "\n",
        "\n",
        "def get_conclusao_voto(texto: str) -> str:\n",
        "    \"\"\"\n",
        "    Extrai a conclusão do voto, começando com 'Conclusos os autos' e terminando no próximo ponto relevante.\n",
        "    \"\"\"\n",
        "    match = re.search(r\"(Conclusos os autos\\s*.+?)(?=Tribunal de Contas|$)\", texto, re.IGNORECASE | re.DOTALL)\n",
        "    return match.group(1).strip() if match else \"Conclusão do voto não encontrada\"\n",
        "\n",
        "\n",
        "def main(pasta_input: str, pasta_output: str):\n",
        "    \"\"\"\n",
        "    Lê arquivos PDF de uma pasta, extrai informações e salva em CSV.\n",
        "    \"\"\"\n",
        "    nomes_pdf = [f for f in os.listdir(pasta_input) if f.lower().endswith('.pdf')]\n",
        "\n",
        "    if not nomes_pdf:\n",
        "        print(\"Nenhum arquivo PDF encontrado na pasta especificada.\")\n",
        "        return\n",
        "\n",
        "    resultados = {\n",
        "        \"num_processo\": [],\n",
        "        \"interessado\": [],\n",
        "        \"cargo_do_interessado\": [],\n",
        "        \"orgao_entidade\": [],\n",
        "        \"conclusao_voto\": []\n",
        "    }\n",
        "    textos_segmentados = {\"nome_pdf\": [], \"acordao\": [], \"relatorio\": []}\n",
        "\n",
        "    for nome_pdf in nomes_pdf:\n",
        "        caminho_arquivo = os.path.join(pasta_input, nome_pdf)\n",
        "        with open(caminho_arquivo, 'rb') as f:\n",
        "            leitor = PyPDF2.PdfReader(f)\n",
        "            texto = ''.join([pagina.extract_text() for pagina in leitor.pages])\n",
        "\n",
        "        texto_limpo = limpar_texto(texto)\n",
        "        partes_texto = segmentar_texto(texto_limpo)\n",
        "\n",
        "        # Tratando caso o texto não seja dividido corretamente\n",
        "        if len(partes_texto) == 2:\n",
        "            textos_segmentados[\"nome_pdf\"].append(nome_pdf)\n",
        "            textos_segmentados[\"acordao\"].append(partes_texto[0].strip())\n",
        "            textos_segmentados[\"relatorio\"].append(\"RELATÓRIO E VOTO \" + partes_texto[1].strip())\n",
        "        else:\n",
        "            textos_segmentados[\"nome_pdf\"].append(nome_pdf)\n",
        "            textos_segmentados[\"acordao\"].append(texto_limpo)\n",
        "            textos_segmentados[\"relatorio\"].append(\"Texto não segmentado corretamente\")\n",
        "\n",
        "        # Extraindo informações com regex\n",
        "        num_processo = get_num_processo(texto_limpo)\n",
        "        interessado = get_interessado(texto_limpo)\n",
        "        cargo_do_interessado = get_cargo(texto_limpo)\n",
        "        orgao_entidade = get_orgao_entidade(texto_limpo)\n",
        "        voto = get_voto(texto_limpo)\n",
        "        conclusao_voto = get_conclusao_voto(texto_limpo)\n",
        "\n",
        "        resultados[\"num_processo\"].append(num_processo)\n",
        "        resultados[\"interessado\"].append(interessado)\n",
        "        resultados[\"cargo_do_interessado\"].append(cargo_do_interessado)\n",
        "        resultados[\"orgao_entidade\"].append(orgao_entidade)\n",
        "        resultados[\"conclusao_voto\"].append(conclusao_voto)\n",
        "\n",
        "    # Salvando resultados em CSV\n",
        "    os.makedirs(pasta_output, exist_ok=True)\n",
        "\n",
        "    df_resultados = pd.DataFrame(resultados)\n",
        "    df_resultados.to_csv(os.path.join(pasta_output, \"resultado_completo.csv\"), index=False)\n",
        "\n",
        "    df_textos_segmentados = pd.DataFrame(textos_segmentados)\n",
        "    df_textos_segmentados.to_csv(os.path.join(pasta_output, \"segmentado.csv\"), index=False)\n",
        "\n",
        "    print(f\"Extração concluída. Resultados salvos em: {pasta_output}\")\n",
        "\n",
        "\n",
        "# Executando o script\n",
        "main(pasta_input=\"input\", pasta_output=\"output\")\n"
      ],
      "metadata": {
        "colab": {
          "base_uri": "https://localhost:8080/"
        },
        "id": "eaSptqeOxHDC",
        "outputId": "b8e65294-b4de-45a3-f2db-2dee6f63e1e4"
      },
      "execution_count": null,
      "outputs": [
        {
          "output_type": "stream",
          "name": "stdout",
          "text": [
            "Extração concluída. Resultados salvos em: output\n"
          ]
        }
      ]
    }
  ]
}